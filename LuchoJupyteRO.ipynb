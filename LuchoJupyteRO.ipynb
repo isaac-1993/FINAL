{
 "cells": [
  {
   "cell_type": "markdown",
   "metadata": {},
   "source": [
    "# Para complementar la desición de Don Lucho sobre la Universidad en la que le conviene estudiar medicína a su hija  se realizó un análisis y una representación de los datos trabajados del  Examen Nacional para Aspirantes a Residencias Médicas ENARM en el archivo \"DonLuchoRO\" y en Tableau Public."
   ]
  },
  {
   "cell_type": "markdown",
   "metadata": {},
   "source": [
    "## Se creó una variable \"Eficiencia\" para cada Universidad y cada año registrado ordenando de la siguiente forma los elementos de la base de datos."
   ]
  },
  {
   "cell_type": "markdown",
   "metadata": {},
   "source": [
    "<img src=\"https://i.imgur.com/dtFBjIc.png\">"
   ]
  },
  {
   "cell_type": "markdown",
   "metadata": {},
   "source": [
    "# Representación geográfica de la eficiencia según año y entidad federativa"
   ]
  },
  {
   "cell_type": "markdown",
   "metadata": {},
   "source": [
    "<img src=\"https://i.imgur.com/CWsqduu.png\">"
   ]
  },
  {
   "cell_type": "markdown",
   "metadata": {},
   "source": [
    "## A través de ésta información Don Lucho puede ahora tener una escala clara de la eficiencia de cada Universidad y la probabilidad que tendría su hija de ingresar a la especialidad según su desición."
   ]
  }
 ],
 "metadata": {
  "kernelspec": {
   "display_name": "R",
   "language": "R",
   "name": "ir"
  },
  "language_info": {
   "codemirror_mode": "r",
   "file_extension": ".r",
   "mimetype": "text/x-r-source",
   "name": "R",
   "pygments_lexer": "r",
   "version": "3.6.1"
  }
 },
 "nbformat": 4,
 "nbformat_minor": 2
}
