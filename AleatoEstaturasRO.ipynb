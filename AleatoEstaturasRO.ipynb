{
 "cells": [
  {
   "cell_type": "markdown",
   "metadata": {},
   "source": [
    "# Se crea una simulación de una distribución aleatoria con 90 datos sobre estaturas"
   ]
  },
  {
   "cell_type": "code",
   "execution_count": 9,
   "metadata": {},
   "outputs": [],
   "source": [
    "alturas <- read.csv(\"alturas\", header= FALSE)"
   ]
  },
  {
   "cell_type": "code",
   "execution_count": 16,
   "metadata": {},
   "outputs": [
    {
     "data": {
      "text/html": [
       "<table>\n",
       "<thead><tr><th scope=col>V1</th></tr></thead>\n",
       "<tbody>\n",
       "\t<tr><td> 99.46644</td></tr>\n",
       "\t<tr><td>169.17453</td></tr>\n",
       "\t<tr><td>131.12338</td></tr>\n",
       "\t<tr><td>124.66146</td></tr>\n",
       "\t<tr><td>145.71677</td></tr>\n",
       "\t<tr><td>156.62199</td></tr>\n",
       "</tbody>\n",
       "</table>\n"
      ],
      "text/latex": [
       "\\begin{tabular}{r|l}\n",
       " V1\\\\\n",
       "\\hline\n",
       "\t  99.46644\\\\\n",
       "\t 169.17453\\\\\n",
       "\t 131.12338\\\\\n",
       "\t 124.66146\\\\\n",
       "\t 145.71677\\\\\n",
       "\t 156.62199\\\\\n",
       "\\end{tabular}\n"
      ],
      "text/markdown": [
       "\n",
       "| V1 |\n",
       "|---|\n",
       "|  99.46644 |\n",
       "| 169.17453 |\n",
       "| 131.12338 |\n",
       "| 124.66146 |\n",
       "| 145.71677 |\n",
       "| 156.62199 |\n",
       "\n"
      ],
      "text/plain": [
       "  V1       \n",
       "1  99.46644\n",
       "2 169.17453\n",
       "3 131.12338\n",
       "4 124.66146\n",
       "5 145.71677\n",
       "6 156.62199"
      ]
     },
     "metadata": {},
     "output_type": "display_data"
    }
   ],
   "source": [
    "head (alturas)"
   ]
  },
  {
   "cell_type": "code",
   "execution_count": 11,
   "metadata": {},
   "outputs": [],
   "source": [
    "# un renglón y dos columnas"
   ]
  },
  {
   "cell_type": "code",
   "execution_count": 23,
   "metadata": {},
   "outputs": [],
   "source": [
    "layout(matrix(1:2,1,2))"
   ]
  },
  {
   "cell_type": "markdown",
   "metadata": {},
   "source": [
    "# Histograma de la distribución aleatoria."
   ]
  },
  {
   "cell_type": "code",
   "execution_count": 19,
   "metadata": {},
   "outputs": [
    {
     "data": {
      "image/png": "[encoded data removed]",
      "text/plain": [
       "Plot with title \"Estaturas en cm\""
      ]
     },
     "metadata": {},
     "output_type": "display_data"
    }
   ],
   "source": [
    "options(repr.plot.width=6,repr.plot.height=6/1.61803)\n",
    "hist(alturas$V1, main=\"Estaturas en cm\", col=\"orange\", border=\"purple\", labels=T, xlab=\"Centimetros\", ylab=\"Frecuencias\",ylim=c(0,30))"
   ]
  }
 ],
 "metadata": {
  "kernelspec": {
   "display_name": "R",
   "language": "R",
   "name": "ir"
  },
  "language_info": {
   "codemirror_mode": "r",
   "file_extension": ".r",
   "mimetype": "text/x-r-source",
   "name": "R",
   "pygments_lexer": "r",
   "version": "3.6.1"
  }
 },
 "nbformat": 4,
 "nbformat_minor": 2
}
